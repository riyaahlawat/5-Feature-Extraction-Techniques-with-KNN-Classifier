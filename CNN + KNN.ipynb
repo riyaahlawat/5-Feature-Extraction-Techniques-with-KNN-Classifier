{
 "cells": [
  {
   "cell_type": "code",
   "execution_count": 2,
   "metadata": {},
   "outputs": [],
   "source": [
    "# CNN + KNN dataset handled."
   ]
  },
  {
   "cell_type": "code",
   "execution_count": 8,
   "metadata": {},
   "outputs": [],
   "source": [
    "import numpy as np\n",
    "import os\n",
    "from PIL import Image\n",
    "from sklearn.model_selection import train_test_split\n",
    "from sklearn.preprocessing import LabelEncoder\n",
    "from sklearn.neighbors import KNeighborsClassifier\n",
    "from sklearn.metrics import accuracy_score\n",
    "from tensorflow.keras.models import Model\n",
    "from tensorflow.keras.layers import Conv2D, MaxPooling2D, Flatten, Dense, Input\n",
    "from tensorflow.keras.optimizers import Adam\n",
    "from tensorflow.keras.preprocessing.image import ImageDataGenerator\n",
    "from tensorflow.keras.callbacks import EarlyStopping, ReduceLROnPlateau\n"
   ]
  },
  {
   "cell_type": "code",
   "execution_count": 9,
   "metadata": {},
   "outputs": [],
   "source": [
    "def load_and_preprocess_images(folder_path):\n",
    "    images = []\n",
    "    labels = []\n",
    "    for label_folder in os.listdir(folder_path):\n",
    "        label_folder_path = os.path.join(folder_path, label_folder)\n",
    "        if os.path.isdir(label_folder_path):\n",
    "            for img_file in os.listdir(label_folder_path):\n",
    "                img_path = os.path.join(label_folder_path, img_file)\n",
    "                if img_path.lower().endswith('.pgm'):\n",
    "                    img = Image.open(img_path).convert('L')  # Convert to grayscale\n",
    "                    img = img.resize((112, 92))  # Resize to your desired input shape\n",
    "                    img_array = np.array(img)\n",
    "                    images.append(img_array)\n",
    "                    labels.append(label_folder)\n",
    "    return np.array(images), np.array(labels)\n",
    "\n",
    "# Load data\n",
    "folder_path = './dataset'\n",
    "images, labels = load_and_preprocess_images(folder_path)\n",
    "\n",
    "# Normalize images and add channel dimension\n",
    "images = images / 255.0\n",
    "images = np.expand_dims(images, axis=-1)  # Add channel dimension\n",
    "\n",
    "# Encode labels\n",
    "le = LabelEncoder()\n",
    "encoded_labels = le.fit_transform(labels)\n"
   ]
  },
  {
   "cell_type": "code",
   "execution_count": 10,
   "metadata": {},
   "outputs": [],
   "source": [
    "# Split dataset into train and temp (val+test)\n",
    "X_train, X_temp, y_train, y_temp = train_test_split(images, encoded_labels, test_size=0.6, random_state=42, stratify=encoded_labels)\n",
    "\n",
    "# Split temp into validation and test\n",
    "X_val, X_test, y_val, y_test = train_test_split(X_temp, y_temp, test_size=0.5, random_state=42, stratify=y_temp)\n"
   ]
  },
  {
   "cell_type": "code",
   "execution_count": 12,
   "metadata": {},
   "outputs": [
    {
     "data": {
      "text/html": [
       "<pre style=\"white-space:pre;overflow-x:auto;line-height:normal;font-family:Menlo,'DejaVu Sans Mono',consolas,'Courier New',monospace\"><span style=\"font-weight: bold\">Model: \"functional\"</span>\n",
       "</pre>\n"
      ],
      "text/plain": [
       "\u001b[1mModel: \"functional\"\u001b[0m\n"
      ]
     },
     "metadata": {},
     "output_type": "display_data"
    },
    {
     "data": {
      "text/html": [
       "<pre style=\"white-space:pre;overflow-x:auto;line-height:normal;font-family:Menlo,'DejaVu Sans Mono',consolas,'Courier New',monospace\">┏━━━━━━━━━━━━━━━━━━━━━━━━━━━━━━━━━┳━━━━━━━━━━━━━━━━━━━━━━━━┳━━━━━━━━━━━━━━━┓\n",
       "┃<span style=\"font-weight: bold\"> Layer (type)                    </span>┃<span style=\"font-weight: bold\"> Output Shape           </span>┃<span style=\"font-weight: bold\">       Param # </span>┃\n",
       "┡━━━━━━━━━━━━━━━━━━━━━━━━━━━━━━━━━╇━━━━━━━━━━━━━━━━━━━━━━━━╇━━━━━━━━━━━━━━━┩\n",
       "│ input_layer (<span style=\"color: #0087ff; text-decoration-color: #0087ff\">InputLayer</span>)        │ (<span style=\"color: #00d7ff; text-decoration-color: #00d7ff\">None</span>, <span style=\"color: #00af00; text-decoration-color: #00af00\">92</span>, <span style=\"color: #00af00; text-decoration-color: #00af00\">112</span>, <span style=\"color: #00af00; text-decoration-color: #00af00\">1</span>)     │             <span style=\"color: #00af00; text-decoration-color: #00af00\">0</span> │\n",
       "├─────────────────────────────────┼────────────────────────┼───────────────┤\n",
       "│ conv2d (<span style=\"color: #0087ff; text-decoration-color: #0087ff\">Conv2D</span>)                 │ (<span style=\"color: #00d7ff; text-decoration-color: #00d7ff\">None</span>, <span style=\"color: #00af00; text-decoration-color: #00af00\">90</span>, <span style=\"color: #00af00; text-decoration-color: #00af00\">110</span>, <span style=\"color: #00af00; text-decoration-color: #00af00\">32</span>)    │           <span style=\"color: #00af00; text-decoration-color: #00af00\">320</span> │\n",
       "├─────────────────────────────────┼────────────────────────┼───────────────┤\n",
       "│ max_pooling2d (<span style=\"color: #0087ff; text-decoration-color: #0087ff\">MaxPooling2D</span>)    │ (<span style=\"color: #00d7ff; text-decoration-color: #00d7ff\">None</span>, <span style=\"color: #00af00; text-decoration-color: #00af00\">45</span>, <span style=\"color: #00af00; text-decoration-color: #00af00\">55</span>, <span style=\"color: #00af00; text-decoration-color: #00af00\">32</span>)     │             <span style=\"color: #00af00; text-decoration-color: #00af00\">0</span> │\n",
       "├─────────────────────────────────┼────────────────────────┼───────────────┤\n",
       "│ conv2d_1 (<span style=\"color: #0087ff; text-decoration-color: #0087ff\">Conv2D</span>)               │ (<span style=\"color: #00d7ff; text-decoration-color: #00d7ff\">None</span>, <span style=\"color: #00af00; text-decoration-color: #00af00\">43</span>, <span style=\"color: #00af00; text-decoration-color: #00af00\">53</span>, <span style=\"color: #00af00; text-decoration-color: #00af00\">64</span>)     │        <span style=\"color: #00af00; text-decoration-color: #00af00\">18,496</span> │\n",
       "├─────────────────────────────────┼────────────────────────┼───────────────┤\n",
       "│ max_pooling2d_1 (<span style=\"color: #0087ff; text-decoration-color: #0087ff\">MaxPooling2D</span>)  │ (<span style=\"color: #00d7ff; text-decoration-color: #00d7ff\">None</span>, <span style=\"color: #00af00; text-decoration-color: #00af00\">21</span>, <span style=\"color: #00af00; text-decoration-color: #00af00\">26</span>, <span style=\"color: #00af00; text-decoration-color: #00af00\">64</span>)     │             <span style=\"color: #00af00; text-decoration-color: #00af00\">0</span> │\n",
       "├─────────────────────────────────┼────────────────────────┼───────────────┤\n",
       "│ conv2d_2 (<span style=\"color: #0087ff; text-decoration-color: #0087ff\">Conv2D</span>)               │ (<span style=\"color: #00d7ff; text-decoration-color: #00d7ff\">None</span>, <span style=\"color: #00af00; text-decoration-color: #00af00\">19</span>, <span style=\"color: #00af00; text-decoration-color: #00af00\">24</span>, <span style=\"color: #00af00; text-decoration-color: #00af00\">128</span>)    │        <span style=\"color: #00af00; text-decoration-color: #00af00\">73,856</span> │\n",
       "├─────────────────────────────────┼────────────────────────┼───────────────┤\n",
       "│ max_pooling2d_2 (<span style=\"color: #0087ff; text-decoration-color: #0087ff\">MaxPooling2D</span>)  │ (<span style=\"color: #00d7ff; text-decoration-color: #00d7ff\">None</span>, <span style=\"color: #00af00; text-decoration-color: #00af00\">9</span>, <span style=\"color: #00af00; text-decoration-color: #00af00\">12</span>, <span style=\"color: #00af00; text-decoration-color: #00af00\">128</span>)     │             <span style=\"color: #00af00; text-decoration-color: #00af00\">0</span> │\n",
       "├─────────────────────────────────┼────────────────────────┼───────────────┤\n",
       "│ flatten (<span style=\"color: #0087ff; text-decoration-color: #0087ff\">Flatten</span>)               │ (<span style=\"color: #00d7ff; text-decoration-color: #00d7ff\">None</span>, <span style=\"color: #00af00; text-decoration-color: #00af00\">13824</span>)          │             <span style=\"color: #00af00; text-decoration-color: #00af00\">0</span> │\n",
       "├─────────────────────────────────┼────────────────────────┼───────────────┤\n",
       "│ dense (<span style=\"color: #0087ff; text-decoration-color: #0087ff\">Dense</span>)                   │ (<span style=\"color: #00d7ff; text-decoration-color: #00d7ff\">None</span>, <span style=\"color: #00af00; text-decoration-color: #00af00\">128</span>)            │     <span style=\"color: #00af00; text-decoration-color: #00af00\">1,769,600</span> │\n",
       "├─────────────────────────────────┼────────────────────────┼───────────────┤\n",
       "│ dense_1 (<span style=\"color: #0087ff; text-decoration-color: #0087ff\">Dense</span>)                 │ (<span style=\"color: #00d7ff; text-decoration-color: #00d7ff\">None</span>, <span style=\"color: #00af00; text-decoration-color: #00af00\">40</span>)             │         <span style=\"color: #00af00; text-decoration-color: #00af00\">5,160</span> │\n",
       "└─────────────────────────────────┴────────────────────────┴───────────────┘\n",
       "</pre>\n"
      ],
      "text/plain": [
       "┏━━━━━━━━━━━━━━━━━━━━━━━━━━━━━━━━━┳━━━━━━━━━━━━━━━━━━━━━━━━┳━━━━━━━━━━━━━━━┓\n",
       "┃\u001b[1m \u001b[0m\u001b[1mLayer (type)                   \u001b[0m\u001b[1m \u001b[0m┃\u001b[1m \u001b[0m\u001b[1mOutput Shape          \u001b[0m\u001b[1m \u001b[0m┃\u001b[1m \u001b[0m\u001b[1m      Param #\u001b[0m\u001b[1m \u001b[0m┃\n",
       "┡━━━━━━━━━━━━━━━━━━━━━━━━━━━━━━━━━╇━━━━━━━━━━━━━━━━━━━━━━━━╇━━━━━━━━━━━━━━━┩\n",
       "│ input_layer (\u001b[38;5;33mInputLayer\u001b[0m)        │ (\u001b[38;5;45mNone\u001b[0m, \u001b[38;5;34m92\u001b[0m, \u001b[38;5;34m112\u001b[0m, \u001b[38;5;34m1\u001b[0m)     │             \u001b[38;5;34m0\u001b[0m │\n",
       "├─────────────────────────────────┼────────────────────────┼───────────────┤\n",
       "│ conv2d (\u001b[38;5;33mConv2D\u001b[0m)                 │ (\u001b[38;5;45mNone\u001b[0m, \u001b[38;5;34m90\u001b[0m, \u001b[38;5;34m110\u001b[0m, \u001b[38;5;34m32\u001b[0m)    │           \u001b[38;5;34m320\u001b[0m │\n",
       "├─────────────────────────────────┼────────────────────────┼───────────────┤\n",
       "│ max_pooling2d (\u001b[38;5;33mMaxPooling2D\u001b[0m)    │ (\u001b[38;5;45mNone\u001b[0m, \u001b[38;5;34m45\u001b[0m, \u001b[38;5;34m55\u001b[0m, \u001b[38;5;34m32\u001b[0m)     │             \u001b[38;5;34m0\u001b[0m │\n",
       "├─────────────────────────────────┼────────────────────────┼───────────────┤\n",
       "│ conv2d_1 (\u001b[38;5;33mConv2D\u001b[0m)               │ (\u001b[38;5;45mNone\u001b[0m, \u001b[38;5;34m43\u001b[0m, \u001b[38;5;34m53\u001b[0m, \u001b[38;5;34m64\u001b[0m)     │        \u001b[38;5;34m18,496\u001b[0m │\n",
       "├─────────────────────────────────┼────────────────────────┼───────────────┤\n",
       "│ max_pooling2d_1 (\u001b[38;5;33mMaxPooling2D\u001b[0m)  │ (\u001b[38;5;45mNone\u001b[0m, \u001b[38;5;34m21\u001b[0m, \u001b[38;5;34m26\u001b[0m, \u001b[38;5;34m64\u001b[0m)     │             \u001b[38;5;34m0\u001b[0m │\n",
       "├─────────────────────────────────┼────────────────────────┼───────────────┤\n",
       "│ conv2d_2 (\u001b[38;5;33mConv2D\u001b[0m)               │ (\u001b[38;5;45mNone\u001b[0m, \u001b[38;5;34m19\u001b[0m, \u001b[38;5;34m24\u001b[0m, \u001b[38;5;34m128\u001b[0m)    │        \u001b[38;5;34m73,856\u001b[0m │\n",
       "├─────────────────────────────────┼────────────────────────┼───────────────┤\n",
       "│ max_pooling2d_2 (\u001b[38;5;33mMaxPooling2D\u001b[0m)  │ (\u001b[38;5;45mNone\u001b[0m, \u001b[38;5;34m9\u001b[0m, \u001b[38;5;34m12\u001b[0m, \u001b[38;5;34m128\u001b[0m)     │             \u001b[38;5;34m0\u001b[0m │\n",
       "├─────────────────────────────────┼────────────────────────┼───────────────┤\n",
       "│ flatten (\u001b[38;5;33mFlatten\u001b[0m)               │ (\u001b[38;5;45mNone\u001b[0m, \u001b[38;5;34m13824\u001b[0m)          │             \u001b[38;5;34m0\u001b[0m │\n",
       "├─────────────────────────────────┼────────────────────────┼───────────────┤\n",
       "│ dense (\u001b[38;5;33mDense\u001b[0m)                   │ (\u001b[38;5;45mNone\u001b[0m, \u001b[38;5;34m128\u001b[0m)            │     \u001b[38;5;34m1,769,600\u001b[0m │\n",
       "├─────────────────────────────────┼────────────────────────┼───────────────┤\n",
       "│ dense_1 (\u001b[38;5;33mDense\u001b[0m)                 │ (\u001b[38;5;45mNone\u001b[0m, \u001b[38;5;34m40\u001b[0m)             │         \u001b[38;5;34m5,160\u001b[0m │\n",
       "└─────────────────────────────────┴────────────────────────┴───────────────┘\n"
      ]
     },
     "metadata": {},
     "output_type": "display_data"
    },
    {
     "data": {
      "text/html": [
       "<pre style=\"white-space:pre;overflow-x:auto;line-height:normal;font-family:Menlo,'DejaVu Sans Mono',consolas,'Courier New',monospace\"><span style=\"font-weight: bold\"> Total params: </span><span style=\"color: #00af00; text-decoration-color: #00af00\">1,867,432</span> (7.12 MB)\n",
       "</pre>\n"
      ],
      "text/plain": [
       "\u001b[1m Total params: \u001b[0m\u001b[38;5;34m1,867,432\u001b[0m (7.12 MB)\n"
      ]
     },
     "metadata": {},
     "output_type": "display_data"
    },
    {
     "data": {
      "text/html": [
       "<pre style=\"white-space:pre;overflow-x:auto;line-height:normal;font-family:Menlo,'DejaVu Sans Mono',consolas,'Courier New',monospace\"><span style=\"font-weight: bold\"> Trainable params: </span><span style=\"color: #00af00; text-decoration-color: #00af00\">1,867,432</span> (7.12 MB)\n",
       "</pre>\n"
      ],
      "text/plain": [
       "\u001b[1m Trainable params: \u001b[0m\u001b[38;5;34m1,867,432\u001b[0m (7.12 MB)\n"
      ]
     },
     "metadata": {},
     "output_type": "display_data"
    },
    {
     "data": {
      "text/html": [
       "<pre style=\"white-space:pre;overflow-x:auto;line-height:normal;font-family:Menlo,'DejaVu Sans Mono',consolas,'Courier New',monospace\"><span style=\"font-weight: bold\"> Non-trainable params: </span><span style=\"color: #00af00; text-decoration-color: #00af00\">0</span> (0.00 B)\n",
       "</pre>\n"
      ],
      "text/plain": [
       "\u001b[1m Non-trainable params: \u001b[0m\u001b[38;5;34m0\u001b[0m (0.00 B)\n"
      ]
     },
     "metadata": {},
     "output_type": "display_data"
    }
   ],
   "source": [
    "from tensorflow.keras.models import Model\n",
    "from tensorflow.keras.layers import Input, Conv2D, MaxPooling2D, Flatten, Dense\n",
    "from tensorflow.keras.optimizers import Adam\n",
    "import numpy as np\n",
    "\n",
    "# Define input shape\n",
    "input_shape = (92, 112, 1)  # Grayscale images with shape (height, width, channels)\n",
    "\n",
    "def build_cnn_model(input_shape: tuple, num_classes: int) -> Model:\n",
    "    inputs = Input(shape=input_shape)\n",
    "    x = Conv2D(32, (3, 3), activation='relu')(inputs)\n",
    "    x = MaxPooling2D((2, 2))(x)\n",
    "    x = Conv2D(64, (3, 3), activation='relu')(x)\n",
    "    x = MaxPooling2D((2, 2))(x)\n",
    "    x = Conv2D(128, (3, 3), activation='relu')(x)\n",
    "    x = MaxPooling2D((2, 2))(x)\n",
    "    x = Flatten()(x)\n",
    "    x = Dense(128, activation='relu')(x)\n",
    "    outputs = Dense(num_classes, activation='softmax')(x)  # Change output layer to num_classes\n",
    "    model = Model(inputs=inputs, outputs=outputs)\n",
    "    return model\n",
    "\n",
    "# Determine number of classes\n",
    "num_classes = len(np.unique(encoded_labels))\n",
    "\n",
    "# Build and compile the CNN model\n",
    "cnn_model = build_cnn_model(input_shape, num_classes)\n",
    "cnn_model.compile(optimizer=Adam(learning_rate=0.0003), loss='categorical_crossentropy', metrics=['accuracy'])\n",
    "\n",
    "# Model summary\n",
    "cnn_model.summary()\n"
   ]
  },
  {
   "cell_type": "code",
   "execution_count": 16,
   "metadata": {},
   "outputs": [],
   "source": [
    "def create_data_generator(X, y, batch_size=64, augment=False):\n",
    "    if augment:\n",
    "        datagen = ImageDataGenerator(\n",
    "            rescale=1./255,\n",
    "            zoom_range=0.2,\n",
    "            rotation_range=5,\n",
    "            width_shift_range=0.1,\n",
    "            height_shift_range=0.1,\n",
    "            brightness_range=[0.8, 1.2],\n",
    "            horizontal_flip=True,\n",
    "            fill_mode='nearest'\n",
    "        )\n",
    "    else:\n",
    "        datagen = ImageDataGenerator(rescale=1./255)\n",
    "\n",
    "    return datagen.flow(X, y, batch_size=batch_size, shuffle=True)\n",
    "\n",
    "# Create dataset generators\n",
    "train_ds = create_data_generator(X_train, y_train, augment=True)\n",
    "val_ds = create_data_generator(X_val, y_val, augment=False)\n"
   ]
  },
  {
   "cell_type": "code",
   "execution_count": 19,
   "metadata": {},
   "outputs": [],
   "source": [
    "from tensorflow.keras.utils import to_categorical\n",
    "\n",
    "# Encode labels as one-hot vectors\n",
    "y_train_encoded = to_categorical(y_train, num_classes=num_classes)\n",
    "y_val_encoded = to_categorical(y_val, num_classes=num_classes)\n",
    "y_test_encoded = to_categorical(y_test, num_classes=num_classes)\n"
   ]
  },
  {
   "cell_type": "code",
   "execution_count": 20,
   "metadata": {},
   "outputs": [],
   "source": [
    "def create_data_generator(X, y, batch_size=64, augment=False):\n",
    "    if augment:\n",
    "        datagen = ImageDataGenerator(\n",
    "            rescale=1./255,\n",
    "            zoom_range=0.2,\n",
    "            rotation_range=5,\n",
    "            width_shift_range=0.1,\n",
    "            height_shift_range=0.1,\n",
    "            brightness_range=[0.8, 1.2],\n",
    "            horizontal_flip=True,\n",
    "            fill_mode='nearest'\n",
    "        )\n",
    "    else:\n",
    "        datagen = ImageDataGenerator(rescale=1./255)\n",
    "\n",
    "    return datagen.flow(X, y, batch_size=batch_size, shuffle=True)\n",
    "\n",
    "# Create dataset generators\n",
    "train_ds = create_data_generator(X_train, y_train_encoded, augment=True)\n",
    "val_ds = create_data_generator(X_val, y_val_encoded, augment=False)\n"
   ]
  },
  {
   "cell_type": "code",
   "execution_count": 21,
   "metadata": {},
   "outputs": [
    {
     "name": "stdout",
     "output_type": "stream",
     "text": [
      "Epoch 1/50\n"
     ]
    },
    {
     "name": "stderr",
     "output_type": "stream",
     "text": [
      "c:\\Users\\rahla\\AppData\\Local\\Programs\\Python\\Python312\\Lib\\site-packages\\keras\\src\\trainers\\data_adapters\\py_dataset_adapter.py:122: UserWarning: Your `PyDataset` class should call `super().__init__(**kwargs)` in its constructor. `**kwargs` can include `workers`, `use_multiprocessing`, `max_queue_size`. Do not pass these arguments to `fit()`, as they will be ignored.\n",
      "  self._warn_if_super_not_called()\n"
     ]
    },
    {
     "name": "stdout",
     "output_type": "stream",
     "text": [
      "3/3 - 5s - 2s/step - accuracy: 0.0063 - loss: 3.6890 - val_accuracy: 0.0167 - val_loss: 3.6889 - learning_rate: 3.0000e-04\n",
      "Epoch 2/50\n",
      "3/3 - 1s - 449ms/step - accuracy: 0.0188 - loss: 3.6889 - val_accuracy: 0.0167 - val_loss: 3.6889 - learning_rate: 3.0000e-04\n",
      "Epoch 3/50\n",
      "3/3 - 2s - 507ms/step - accuracy: 0.0125 - loss: 3.6889 - val_accuracy: 0.0250 - val_loss: 3.6889 - learning_rate: 3.0000e-04\n",
      "Epoch 4/50\n",
      "3/3 - 1s - 479ms/step - accuracy: 0.0250 - loss: 3.6889 - val_accuracy: 0.0250 - val_loss: 3.6889 - learning_rate: 3.0000e-04\n",
      "Epoch 5/50\n",
      "3/3 - 1s - 429ms/step - accuracy: 0.0250 - loss: 3.6889 - val_accuracy: 0.0000e+00 - val_loss: 3.6889 - learning_rate: 3.0000e-04\n",
      "Epoch 6/50\n",
      "\n",
      "Epoch 6: ReduceLROnPlateau reducing learning rate to 6.000000284984708e-05.\n",
      "3/3 - 1s - 430ms/step - accuracy: 0.0250 - loss: 3.6889 - val_accuracy: 0.0250 - val_loss: 3.6889 - learning_rate: 3.0000e-04\n",
      "Epoch 7/50\n",
      "3/3 - 1s - 495ms/step - accuracy: 0.0250 - loss: 3.6889 - val_accuracy: 0.0250 - val_loss: 3.6889 - learning_rate: 6.0000e-05\n",
      "Epoch 8/50\n",
      "3/3 - 1s - 467ms/step - accuracy: 0.0250 - loss: 3.6889 - val_accuracy: 0.0250 - val_loss: 3.6889 - learning_rate: 6.0000e-05\n",
      "Epoch 9/50\n",
      "3/3 - 2s - 514ms/step - accuracy: 0.0250 - loss: 3.6889 - val_accuracy: 0.0250 - val_loss: 3.6889 - learning_rate: 6.0000e-05\n",
      "Epoch 10/50\n",
      "3/3 - 2s - 520ms/step - accuracy: 0.0250 - loss: 3.6889 - val_accuracy: 0.0250 - val_loss: 3.6889 - learning_rate: 6.0000e-05\n",
      "Epoch 11/50\n",
      "\n",
      "Epoch 11: ReduceLROnPlateau reducing learning rate to 1.2000000424450263e-05.\n",
      "3/3 - 1s - 485ms/step - accuracy: 0.0250 - loss: 3.6889 - val_accuracy: 0.0250 - val_loss: 3.6889 - learning_rate: 6.0000e-05\n",
      "Epoch 11: early stopping\n",
      "Restoring model weights from the end of the best epoch: 1.\n"
     ]
    }
   ],
   "source": [
    "# Define callbacks\n",
    "early_stopping = EarlyStopping(\n",
    "    monitor='val_loss', \n",
    "    patience=10, \n",
    "    restore_best_weights=True, \n",
    "    verbose=1\n",
    ")\n",
    "\n",
    "reduce_lr = ReduceLROnPlateau(\n",
    "    monitor='val_loss', \n",
    "    factor=0.2, \n",
    "    patience=5, \n",
    "    verbose=1, \n",
    "    min_lr=1e-6\n",
    ")\n",
    "\n",
    "# Train the CNN model\n",
    "history = cnn_model.fit(\n",
    "    train_ds,\n",
    "    validation_data=val_ds,\n",
    "    epochs=50,\n",
    "    callbacks=[early_stopping, reduce_lr],\n",
    "    verbose=2\n",
    ")\n"
   ]
  },
  {
   "cell_type": "code",
   "execution_count": 22,
   "metadata": {},
   "outputs": [
    {
     "name": "stdout",
     "output_type": "stream",
     "text": [
      "\u001b[1m5/5\u001b[0m \u001b[32m━━━━━━━━━━━━━━━━━━━━\u001b[0m\u001b[37m\u001b[0m \u001b[1m0s\u001b[0m 69ms/step\n",
      "\u001b[1m4/4\u001b[0m \u001b[32m━━━━━━━━━━━━━━━━━━━━\u001b[0m\u001b[37m\u001b[0m \u001b[1m0s\u001b[0m 109ms/step\n",
      "\u001b[1m4/4\u001b[0m \u001b[32m━━━━━━━━━━━━━━━━━━━━\u001b[0m\u001b[37m\u001b[0m \u001b[1m0s\u001b[0m 76ms/step\n"
     ]
    }
   ],
   "source": [
    "from tensorflow.keras.models import Model\n",
    "\n",
    "# Define a model for feature extraction (remove final classification layer)\n",
    "feature_extractor = Model(inputs=cnn_model.input, outputs=cnn_model.layers[-2].output)\n",
    "\n",
    "# Extract features from the training, validation, and test sets\n",
    "X_train_features = feature_extractor.predict(X_train)\n",
    "X_val_features = feature_extractor.predict(X_val)\n",
    "X_test_features = feature_extractor.predict(X_test)\n"
   ]
  },
  {
   "cell_type": "code",
   "execution_count": 1,
   "metadata": {},
   "outputs": [
    {
     "ename": "NameError",
     "evalue": "name 'cnn_model' is not defined",
     "output_type": "error",
     "traceback": [
      "\u001b[1;31m---------------------------------------------------------------------------\u001b[0m",
      "\u001b[1;31mNameError\u001b[0m                                 Traceback (most recent call last)",
      "Cell \u001b[1;32mIn[1], line 1\u001b[0m\n\u001b[1;32m----> 1\u001b[0m \u001b[43mcnn_model\u001b[49m\u001b[38;5;241m.\u001b[39msummary()\n",
      "\u001b[1;31mNameError\u001b[0m: name 'cnn_model' is not defined"
     ]
    }
   ],
   "source": [
    "cnn_model.summary()"
   ]
  },
  {
   "cell_type": "code",
   "execution_count": 23,
   "metadata": {},
   "outputs": [
    {
     "name": "stdout",
     "output_type": "stream",
     "text": [
      "Validation Accuracy: 0.6833333333333333\n",
      "Test Accuracy: 0.7166666666666667\n",
      "Validation Classification Report:\n",
      "              precision    recall  f1-score   support\n",
      "\n",
      "           0       1.00      0.67      0.80         3\n",
      "           1       1.00      0.67      0.80         3\n",
      "           2       1.00      0.33      0.50         3\n",
      "           3       0.43      1.00      0.60         3\n",
      "           4       0.27      1.00      0.43         3\n",
      "           5       0.75      1.00      0.86         3\n",
      "           6       1.00      1.00      1.00         3\n",
      "           7       1.00      0.67      0.80         3\n",
      "           8       0.00      0.00      0.00         3\n",
      "           9       1.00      0.33      0.50         3\n",
      "          10       1.00      0.67      0.80         3\n",
      "          11       1.00      1.00      1.00         3\n",
      "          12       1.00      0.67      0.80         3\n",
      "          13       0.43      1.00      0.60         3\n",
      "          14       0.60      1.00      0.75         3\n",
      "          15       0.38      1.00      0.55         3\n",
      "          16       1.00      1.00      1.00         3\n",
      "          17       0.50      0.67      0.57         3\n",
      "          18       0.50      0.67      0.57         3\n",
      "          19       0.50      0.67      0.57         3\n",
      "          20       1.00      0.33      0.50         3\n",
      "          21       1.00      1.00      1.00         3\n",
      "          22       0.67      0.67      0.67         3\n",
      "          23       1.00      1.00      1.00         3\n",
      "          24       1.00      0.67      0.80         3\n",
      "          25       1.00      1.00      1.00         3\n",
      "          26       1.00      0.33      0.50         3\n",
      "          27       1.00      1.00      1.00         3\n",
      "          28       0.00      0.00      0.00         3\n",
      "          29       1.00      0.67      0.80         3\n",
      "          30       1.00      0.33      0.50         3\n",
      "          31       1.00      0.33      0.50         3\n",
      "          32       0.00      0.00      0.00         3\n",
      "          33       0.50      1.00      0.67         3\n",
      "          34       0.00      0.00      0.00         3\n",
      "          35       1.00      0.33      0.50         3\n",
      "          36       1.00      1.00      1.00         3\n",
      "          37       1.00      1.00      1.00         3\n",
      "          38       1.00      1.00      1.00         3\n",
      "          39       0.40      0.67      0.50         3\n",
      "\n",
      "    accuracy                           0.68       120\n",
      "   macro avg       0.75      0.68      0.66       120\n",
      "weighted avg       0.75      0.68      0.66       120\n",
      "\n",
      "Test Classification Report:\n",
      "              precision    recall  f1-score   support\n",
      "\n",
      "           0       1.00      0.33      0.50         3\n",
      "           1       1.00      1.00      1.00         3\n",
      "           2       1.00      0.67      0.80         3\n",
      "           3       0.75      1.00      0.86         3\n",
      "           4       0.27      1.00      0.43         3\n",
      "           5       0.60      1.00      0.75         3\n",
      "           6       1.00      1.00      1.00         3\n",
      "           7       1.00      0.33      0.50         3\n",
      "           8       0.33      0.33      0.33         3\n",
      "           9       0.50      0.33      0.40         3\n",
      "          10       1.00      1.00      1.00         3\n",
      "          11       1.00      1.00      1.00         3\n",
      "          12       1.00      1.00      1.00         3\n",
      "          13       0.50      1.00      0.67         3\n",
      "          14       0.60      1.00      0.75         3\n",
      "          15       0.67      0.67      0.67         3\n",
      "          16       1.00      1.00      1.00         3\n",
      "          17       0.60      1.00      0.75         3\n",
      "          18       0.67      0.67      0.67         3\n",
      "          19       1.00      0.67      0.80         3\n",
      "          20       0.50      0.33      0.40         3\n",
      "          21       1.00      1.00      1.00         3\n",
      "          22       0.33      0.33      0.33         3\n",
      "          23       0.75      1.00      0.86         3\n",
      "          24       1.00      0.33      0.50         3\n",
      "          25       1.00      1.00      1.00         3\n",
      "          26       1.00      0.33      0.50         3\n",
      "          27       1.00      1.00      1.00         3\n",
      "          28       0.00      0.00      0.00         3\n",
      "          29       1.00      0.33      0.50         3\n",
      "          30       1.00      0.33      0.50         3\n",
      "          31       1.00      0.67      0.80         3\n",
      "          32       1.00      0.33      0.50         3\n",
      "          33       0.50      1.00      0.67         3\n",
      "          34       0.67      0.67      0.67         3\n",
      "          35       0.50      0.33      0.40         3\n",
      "          36       1.00      1.00      1.00         3\n",
      "          37       1.00      1.00      1.00         3\n",
      "          38       1.00      0.67      0.80         3\n",
      "          39       0.60      1.00      0.75         3\n",
      "\n",
      "    accuracy                           0.72       120\n",
      "   macro avg       0.78      0.72      0.70       120\n",
      "weighted avg       0.78      0.72      0.70       120\n",
      "\n"
     ]
    },
    {
     "name": "stderr",
     "output_type": "stream",
     "text": [
      "c:\\Users\\rahla\\AppData\\Local\\Programs\\Python\\Python312\\Lib\\site-packages\\sklearn\\metrics\\_classification.py:1531: UndefinedMetricWarning: Precision is ill-defined and being set to 0.0 in labels with no predicted samples. Use `zero_division` parameter to control this behavior.\n",
      "  _warn_prf(average, modifier, f\"{metric.capitalize()} is\", len(result))\n",
      "c:\\Users\\rahla\\AppData\\Local\\Programs\\Python\\Python312\\Lib\\site-packages\\sklearn\\metrics\\_classification.py:1531: UndefinedMetricWarning: Precision is ill-defined and being set to 0.0 in labels with no predicted samples. Use `zero_division` parameter to control this behavior.\n",
      "  _warn_prf(average, modifier, f\"{metric.capitalize()} is\", len(result))\n",
      "c:\\Users\\rahla\\AppData\\Local\\Programs\\Python\\Python312\\Lib\\site-packages\\sklearn\\metrics\\_classification.py:1531: UndefinedMetricWarning: Precision is ill-defined and being set to 0.0 in labels with no predicted samples. Use `zero_division` parameter to control this behavior.\n",
      "  _warn_prf(average, modifier, f\"{metric.capitalize()} is\", len(result))\n",
      "c:\\Users\\rahla\\AppData\\Local\\Programs\\Python\\Python312\\Lib\\site-packages\\sklearn\\metrics\\_classification.py:1531: UndefinedMetricWarning: Precision is ill-defined and being set to 0.0 in labels with no predicted samples. Use `zero_division` parameter to control this behavior.\n",
      "  _warn_prf(average, modifier, f\"{metric.capitalize()} is\", len(result))\n",
      "c:\\Users\\rahla\\AppData\\Local\\Programs\\Python\\Python312\\Lib\\site-packages\\sklearn\\metrics\\_classification.py:1531: UndefinedMetricWarning: Precision is ill-defined and being set to 0.0 in labels with no predicted samples. Use `zero_division` parameter to control this behavior.\n",
      "  _warn_prf(average, modifier, f\"{metric.capitalize()} is\", len(result))\n",
      "c:\\Users\\rahla\\AppData\\Local\\Programs\\Python\\Python312\\Lib\\site-packages\\sklearn\\metrics\\_classification.py:1531: UndefinedMetricWarning: Precision is ill-defined and being set to 0.0 in labels with no predicted samples. Use `zero_division` parameter to control this behavior.\n",
      "  _warn_prf(average, modifier, f\"{metric.capitalize()} is\", len(result))\n"
     ]
    }
   ],
   "source": [
    "from sklearn.neighbors import KNeighborsClassifier\n",
    "from sklearn.metrics import classification_report, accuracy_score\n",
    "\n",
    "# Initialize and train the KNN classifier\n",
    "knn = KNeighborsClassifier(n_neighbors=5)\n",
    "knn.fit(X_train_features, y_train)\n",
    "\n",
    "# Make predictions\n",
    "y_val_pred = knn.predict(X_val_features)\n",
    "y_test_pred = knn.predict(X_test_features)\n",
    "\n",
    "# Evaluate the KNN classifier\n",
    "print(\"Validation Accuracy:\", accuracy_score(y_val, y_val_pred))\n",
    "print(\"Test Accuracy:\", accuracy_score(y_test, y_test_pred))\n",
    "\n",
    "# Detailed classification report\n",
    "print(\"Validation Classification Report:\")\n",
    "print(classification_report(y_val, y_val_pred))\n",
    "\n",
    "print(\"Test Classification Report:\")\n",
    "print(classification_report(y_test, y_test_pred))\n"
   ]
  },
  {
   "cell_type": "code",
   "execution_count": 24,
   "metadata": {},
   "outputs": [
    {
     "name": "stdout",
     "output_type": "stream",
     "text": [
      "Test Accuracy: 0.7167\n",
      "Test Precision: 0.7835\n",
      "Test Recall: 0.7167\n",
      "Test F1 Score: 0.7011\n",
      "\n",
      "Test Classification Report:\n",
      "              precision    recall  f1-score   support\n",
      "\n",
      "           0       1.00      0.33      0.50         3\n",
      "           1       1.00      1.00      1.00         3\n",
      "           2       1.00      0.67      0.80         3\n",
      "           3       0.75      1.00      0.86         3\n",
      "           4       0.27      1.00      0.43         3\n",
      "           5       0.60      1.00      0.75         3\n",
      "           6       1.00      1.00      1.00         3\n",
      "           7       1.00      0.33      0.50         3\n",
      "           8       0.33      0.33      0.33         3\n",
      "           9       0.50      0.33      0.40         3\n",
      "          10       1.00      1.00      1.00         3\n",
      "          11       1.00      1.00      1.00         3\n",
      "          12       1.00      1.00      1.00         3\n",
      "          13       0.50      1.00      0.67         3\n",
      "          14       0.60      1.00      0.75         3\n",
      "          15       0.67      0.67      0.67         3\n",
      "          16       1.00      1.00      1.00         3\n",
      "          17       0.60      1.00      0.75         3\n",
      "          18       0.67      0.67      0.67         3\n",
      "          19       1.00      0.67      0.80         3\n",
      "          20       0.50      0.33      0.40         3\n",
      "          21       1.00      1.00      1.00         3\n",
      "          22       0.33      0.33      0.33         3\n",
      "          23       0.75      1.00      0.86         3\n",
      "          24       1.00      0.33      0.50         3\n",
      "          25       1.00      1.00      1.00         3\n",
      "          26       1.00      0.33      0.50         3\n",
      "          27       1.00      1.00      1.00         3\n",
      "          28       0.00      0.00      0.00         3\n",
      "          29       1.00      0.33      0.50         3\n",
      "          30       1.00      0.33      0.50         3\n",
      "          31       1.00      0.67      0.80         3\n",
      "          32       1.00      0.33      0.50         3\n",
      "          33       0.50      1.00      0.67         3\n",
      "          34       0.67      0.67      0.67         3\n",
      "          35       0.50      0.33      0.40         3\n",
      "          36       1.00      1.00      1.00         3\n",
      "          37       1.00      1.00      1.00         3\n",
      "          38       1.00      0.67      0.80         3\n",
      "          39       0.60      1.00      0.75         3\n",
      "\n",
      "    accuracy                           0.72       120\n",
      "   macro avg       0.78      0.72      0.70       120\n",
      "weighted avg       0.78      0.72      0.70       120\n",
      "\n"
     ]
    },
    {
     "name": "stderr",
     "output_type": "stream",
     "text": [
      "c:\\Users\\rahla\\AppData\\Local\\Programs\\Python\\Python312\\Lib\\site-packages\\sklearn\\metrics\\_classification.py:1531: UndefinedMetricWarning: Precision is ill-defined and being set to 0.0 in labels with no predicted samples. Use `zero_division` parameter to control this behavior.\n",
      "  _warn_prf(average, modifier, f\"{metric.capitalize()} is\", len(result))\n",
      "c:\\Users\\rahla\\AppData\\Local\\Programs\\Python\\Python312\\Lib\\site-packages\\sklearn\\metrics\\_classification.py:1531: UndefinedMetricWarning: Precision is ill-defined and being set to 0.0 in labels with no predicted samples. Use `zero_division` parameter to control this behavior.\n",
      "  _warn_prf(average, modifier, f\"{metric.capitalize()} is\", len(result))\n",
      "c:\\Users\\rahla\\AppData\\Local\\Programs\\Python\\Python312\\Lib\\site-packages\\sklearn\\metrics\\_classification.py:1531: UndefinedMetricWarning: Precision is ill-defined and being set to 0.0 in labels with no predicted samples. Use `zero_division` parameter to control this behavior.\n",
      "  _warn_prf(average, modifier, f\"{metric.capitalize()} is\", len(result))\n",
      "c:\\Users\\rahla\\AppData\\Local\\Programs\\Python\\Python312\\Lib\\site-packages\\sklearn\\metrics\\_classification.py:1531: UndefinedMetricWarning: Precision is ill-defined and being set to 0.0 in labels with no predicted samples. Use `zero_division` parameter to control this behavior.\n",
      "  _warn_prf(average, modifier, f\"{metric.capitalize()} is\", len(result))\n"
     ]
    }
   ],
   "source": [
    "from sklearn.neighbors import KNeighborsClassifier\n",
    "from sklearn.metrics import classification_report, accuracy_score, precision_score, recall_score, f1_score\n",
    "\n",
    "# Initialize and train the KNN classifier\n",
    "knn = KNeighborsClassifier(n_neighbors=5)\n",
    "knn.fit(X_train_features, y_train)\n",
    "\n",
    "# Make predictions on the test set\n",
    "y_test_pred = knn.predict(X_test_features)\n",
    "\n",
    "# Evaluate the KNN classifier\n",
    "accuracy = accuracy_score(y_test, y_test_pred)\n",
    "precision = precision_score(y_test, y_test_pred, average='weighted')  # Use 'weighted' for multi-class\n",
    "recall = recall_score(y_test, y_test_pred, average='weighted')  # Use 'weighted' for multi-class\n",
    "f1 = f1_score(y_test, y_test_pred, average='weighted')  # Use 'weighted' for multi-class\n",
    "\n",
    "# Print metrics\n",
    "print(f\"Test Accuracy: {accuracy:.4f}\")\n",
    "print(f\"Test Precision: {precision:.4f}\")\n",
    "print(f\"Test Recall: {recall:.4f}\")\n",
    "print(f\"Test F1 Score: {f1:.4f}\")\n",
    "\n",
    "# Detailed classification report\n",
    "print(\"\\nTest Classification Report:\")\n",
    "print(classification_report(y_test, y_test_pred))\n"
   ]
  },
  {
   "cell_type": "code",
   "execution_count": null,
   "metadata": {},
   "outputs": [],
   "source": []
  }
 ],
 "metadata": {
  "kernelspec": {
   "display_name": "Python 3",
   "language": "python",
   "name": "python3"
  },
  "language_info": {
   "codemirror_mode": {
    "name": "ipython",
    "version": 3
   },
   "file_extension": ".py",
   "mimetype": "text/x-python",
   "name": "python",
   "nbconvert_exporter": "python",
   "pygments_lexer": "ipython3",
   "version": "3.12.2"
  }
 },
 "nbformat": 4,
 "nbformat_minor": 2
}
