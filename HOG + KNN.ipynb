{
 "cells": [
  {
   "cell_type": "code",
   "execution_count": 1,
   "metadata": {},
   "outputs": [],
   "source": [
    "# HOG + KNN dataset handled."
   ]
  },
  {
   "cell_type": "code",
   "execution_count": 2,
   "metadata": {},
   "outputs": [
    {
     "name": "stdout",
     "output_type": "stream",
     "text": [
      "Requirement already satisfied: scikit-image in c:\\users\\rahla\\appdata\\local\\programs\\python\\python312\\lib\\site-packages (0.24.0)Note: you may need to restart the kernel to use updated packages.\n",
      "\n",
      "Requirement already satisfied: numpy>=1.23 in c:\\users\\rahla\\appdata\\local\\programs\\python\\python312\\lib\\site-packages (from scikit-image) (1.26.4)\n",
      "Requirement already satisfied: scipy>=1.9 in c:\\users\\rahla\\appdata\\local\\programs\\python\\python312\\lib\\site-packages (from scikit-image) (1.14.1)\n",
      "Requirement already satisfied: networkx>=2.8 in c:\\users\\rahla\\appdata\\local\\programs\\python\\python312\\lib\\site-packages (from scikit-image) (3.3)\n",
      "Requirement already satisfied: pillow>=9.1 in c:\\users\\rahla\\appdata\\local\\programs\\python\\python312\\lib\\site-packages (from scikit-image) (10.2.0)\n",
      "Requirement already satisfied: imageio>=2.33 in c:\\users\\rahla\\appdata\\local\\programs\\python\\python312\\lib\\site-packages (from scikit-image) (2.35.1)\n",
      "Requirement already satisfied: tifffile>=2022.8.12 in c:\\users\\rahla\\appdata\\local\\programs\\python\\python312\\lib\\site-packages (from scikit-image) (2024.8.30)\n",
      "Requirement already satisfied: packaging>=21 in c:\\users\\rahla\\appdata\\local\\programs\\python\\python312\\lib\\site-packages (from scikit-image) (23.2)\n",
      "Requirement already satisfied: lazy-loader>=0.4 in c:\\users\\rahla\\appdata\\local\\programs\\python\\python312\\lib\\site-packages (from scikit-image) (0.4)\n"
     ]
    }
   ],
   "source": [
    "pip install scikit-image"
   ]
  },
  {
   "cell_type": "code",
   "execution_count": 3,
   "metadata": {},
   "outputs": [
    {
     "name": "stdout",
     "output_type": "stream",
     "text": [
      "Requirement already satisfied: scikit-learn in c:\\users\\rahla\\appdata\\local\\programs\\python\\python312\\lib\\site-packages (1.5.1)\n",
      "Requirement already satisfied: numpy>=1.19.5 in c:\\users\\rahla\\appdata\\local\\programs\\python\\python312\\lib\\site-packages (from scikit-learn) (1.26.4)\n",
      "Requirement already satisfied: scipy>=1.6.0 in c:\\users\\rahla\\appdata\\local\\programs\\python\\python312\\lib\\site-packages (from scikit-learn) (1.14.1)\n",
      "Requirement already satisfied: joblib>=1.2.0 in c:\\users\\rahla\\appdata\\local\\programs\\python\\python312\\lib\\site-packages (from scikit-learn) (1.4.2)\n",
      "Requirement already satisfied: threadpoolctl>=3.1.0 in c:\\users\\rahla\\appdata\\local\\programs\\python\\python312\\lib\\site-packages (from scikit-learn) (3.5.0)\n",
      "Note: you may need to restart the kernel to use updated packages.\n"
     ]
    }
   ],
   "source": [
    "pip install scikit-learn"
   ]
  },
  {
   "cell_type": "code",
   "execution_count": 7,
   "metadata": {},
   "outputs": [
    {
     "name": "stdout",
     "output_type": "stream",
     "text": [
      "Training set size: 240 samples\n",
      "Test set size: 160 samples\n",
      "Test Set - Accuracy: 0.8187, Precision: 0.8612, Recall: 0.8187, F1 Score: 0.8084\n"
     ]
    }
   ],
   "source": [
    "import os\n",
    "import numpy as np\n",
    "from skimage import io, color, transform\n",
    "from skimage.feature import hog\n",
    "from sklearn.model_selection import train_test_split\n",
    "from sklearn.neighbors import KNeighborsClassifier\n",
    "from sklearn.metrics import accuracy_score, precision_score, recall_score, f1_score\n",
    "\n",
    "# Path to the AT&T dataset\n",
    "dataset_path = './dataset/'\n",
    "\n",
    "# Load and preprocess the dataset\n",
    "def load_and_preprocess_atnt_dataset(dataset_path):\n",
    "    images = []\n",
    "    labels = []\n",
    "    \n",
    "    for subject_dir in os.listdir(dataset_path):\n",
    "        subject_path = os.path.join(dataset_path, subject_dir)\n",
    "        if os.path.isdir(subject_path):\n",
    "            label = int(subject_dir.replace(\"s\", \"\"))  # Convert folder name to label\n",
    "            for img_name in os.listdir(subject_path):\n",
    "                img_path = os.path.join(subject_path, img_name)\n",
    "                img = io.imread(img_path)\n",
    "                # if len(img.shape) == 3:  # Convert to grayscale if needed\n",
    "                #     img = color.rgb2gray(img)\n",
    "                \n",
    "                # Resize and normalize\n",
    "                img = transform.resize(img, (112, 92), mode='reflect')  # Resize to desired shape\n",
    "                # img = img / 255.0  # Normalize to [0, 1]\n",
    "                \n",
    "                images.append(img)\n",
    "                labels.append(label)\n",
    "    \n",
    "    return np.array(images), np.array(labels)\n",
    "\n",
    "# Split the dataset into train, validation, and test sets\n",
    "from sklearn.model_selection import train_test_split\n",
    "\n",
    "def split_dataset(images, labels):\n",
    "    # Split dataset into train and test\n",
    "    X_train, X_test, y_train, y_test = train_test_split(images, labels, test_size=0.4, random_state=42, stratify=labels)\n",
    "    # Verify the proportions\n",
    "    print(f\"Training set size: {X_train.shape[0]} samples\")\n",
    "    print(f\"Test set size: {X_test.shape[0]} samples\")\n",
    "    # Return the split datasets\n",
    "    return X_train, X_test, y_train, y_test\n",
    "\n",
    "\n",
    "# Extract HOG features from the dataset\n",
    "def extract_hog_features(images):\n",
    "    hog_features = []\n",
    "    \n",
    "    for img in images:\n",
    "        feature, _ = hog(img, orientations=9, pixels_per_cell=(8, 8), cells_per_block=(2, 2), block_norm='L2-Hys', visualize=True)\n",
    "        hog_features.append(feature)\n",
    "    \n",
    "    return np.array(hog_features)\n",
    "\n",
    "# Evaluate the model on validation and test sets\n",
    "def evaluate_model(model, X, y_true):\n",
    "    y_pred = model.predict(X)\n",
    "    accuracy = accuracy_score(y_true, y_pred)\n",
    "    precision = precision_score(y_true, y_pred, average='macro')\n",
    "    recall = recall_score(y_true, y_pred, average='macro')\n",
    "    f1 = f1_score(y_true, y_pred, average='macro')\n",
    "    \n",
    "    return accuracy, precision, recall, f1\n",
    "\n",
    "# Main function to run HOG + KNN on the AT&T dataset\n",
    "def main():\n",
    "    # Load and preprocess the dataset\n",
    "    images, labels = load_and_preprocess_atnt_dataset(dataset_path)\n",
    "    \n",
    "    # Split the dataset\n",
    "    X_train, X_test, y_train, y_test = split_dataset(images, labels)\n",
    "    \n",
    "    # Extract HOG features\n",
    "    X_train_hog = extract_hog_features(X_train)\n",
    "    # X_val_hog = extract_hog_features(X_val)\n",
    "    X_test_hog = extract_hog_features(X_test)\n",
    "    \n",
    "    # Train KNN classifier\n",
    "    knn = KNeighborsClassifier(n_neighbors=5)\n",
    "    knn.fit(X_train_hog, y_train)\n",
    "    \n",
    "    # Evaluate on validation set\n",
    "    # val_acc, val_prec, val_recall, val_f1 = evaluate_model(knn, X_val_hog, y_val)\n",
    "    # print(f\"Validation Set - Accuracy: {val_acc:.4f}, Precision: {val_prec:.4f}, Recall: {val_recall:.4f}, F1 Score: {val_f1:.4f}\")\n",
    "    \n",
    "    # Evaluate on test set\n",
    "    test_acc, test_prec, test_recall, test_f1 = evaluate_model(knn, X_test_hog, y_test)\n",
    "    print(f\"Test Set - Accuracy: {test_acc:.4f}, Precision: {test_prec:.4f}, Recall: {test_recall:.4f}, F1 Score: {test_f1:.4f}\")\n",
    "\n",
    "if __name__ == \"__main__\":\n",
    "    main()\n"
   ]
  }
 ],
 "metadata": {
  "kernelspec": {
   "display_name": "Python 3",
   "language": "python",
   "name": "python3"
  },
  "language_info": {
   "codemirror_mode": {
    "name": "ipython",
    "version": 3
   },
   "file_extension": ".py",
   "mimetype": "text/x-python",
   "name": "python",
   "nbconvert_exporter": "python",
   "pygments_lexer": "ipython3",
   "version": "3.12.2"
  }
 },
 "nbformat": 4,
 "nbformat_minor": 2
}
